
import numpy as np
import matplotlib.pyplot as plt
from numpy import pi,sin,cos

u0= 40
g=9.81

theta1=45
theta2=30
ux1= u0*cos(theta1*pi/180)
uy1= u0*sin(theta1*pi/180)

ux2= u0*cos(theta2*pi/180)
uy2= u0*sin(theta2*pi/180)

t_total_1=2*uy1/g
t_total_2=2*uy2/g
t1=np.linspace(0,t_total_1,100)
t2=np.linspace(0,t_total_2,100)

sx1=ux1*t1
sy1=(uy1*t1)-(0.5*g*t1**2)

sx2=ux2*t2
sy2=(uy2*t2)-(0.5*g*t2**2)

plt.figure(figsize=(10,5))
plt.plot(sx1,sy1,label='theta1=45')

plt.plot(sx2,sy2,label='theta2=30')
plt.ylim(0,50)
plt.legend()
plt.show()
