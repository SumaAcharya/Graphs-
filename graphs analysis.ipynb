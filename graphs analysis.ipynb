{
 "cells": [
  {
   "cell_type": "markdown",
   "id": "ce8eeba8-20ae-4427-98ee-bcd5bbb5e127",
   "metadata": {},
   "source": [
    "# kinematics of slider crank mechanism."
   ]
  },
  {
   "cell_type": "raw",
   "id": "c8c1319f-4b68-47ee-bfca-88a1fc61a4f0",
   "metadata": {},
   "source": [
    "import \n"
   ]
  }
 ],
 "metadata": {
  "kernelspec": {
   "display_name": "Python 3 (ipykernel)",
   "language": "python",
   "name": "python3"
  },
  "language_info": {
   "codemirror_mode": {
    "name": "ipython",
    "version": 3
   },
   "file_extension": ".py",
   "mimetype": "text/x-python",
   "name": "python",
   "nbconvert_exporter": "python",
   "pygments_lexer": "ipython3",
   "version": "3.12.4"
  }
 },
 "nbformat": 4,
 "nbformat_minor": 5
}
